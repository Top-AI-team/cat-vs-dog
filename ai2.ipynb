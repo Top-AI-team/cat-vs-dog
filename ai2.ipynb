{
 "cells": [
  {
   "cell_type": "code",
   "execution_count": 1,
   "metadata": {},
   "outputs": [],
   "source": [
    "import matplotlib.pyplot as plt\n",
    "import numpy as np\n",
    "import PIL\n",
    "import tensorflow as tf\n",
    "from tensorflow import keras\n",
    "from tensorflow.keras import layers\n",
    "from tensorflow.keras.models import Sequential"
   ]
  },
  {
   "cell_type": "code",
   "execution_count": 2,
   "metadata": {},
   "outputs": [],
   "source": [
    "import pathlib\n",
    "# data_dir = pathlib.Path('./dataset/PetImages/')\n",
    "data_dir = 'dataset/petimages2/'"
   ]
  },
  {
   "cell_type": "code",
   "execution_count": 36,
   "metadata": {},
   "outputs": [],
   "source": [
    "batch_size = 20\n",
    "img_height = 150\n",
    "img_width = 150"
   ]
  },
  {
   "cell_type": "code",
   "execution_count": 13,
   "metadata": {},
   "outputs": [],
   "source": [
    "model = Sequential([\n",
    "  layers.Conv2D(32, 3, padding='same', activation='relu', input_shape=(150, 150, 3)),\n",
    "  layers.MaxPooling2D(),\n",
    "  layers.Conv2D(64, 3, padding='same', activation='relu'),\n",
    "  layers.MaxPooling2D(),\n",
    "  layers.Conv2D(128, 3, padding='same', activation='relu'),\n",
    "  layers.MaxPooling2D(),\n",
    "  layers.Conv2D(128, 3, padding='same', activation='relu'),\n",
    "  layers.MaxPooling2D(),\n",
    "  tf.keras.layers.Dropout(0.5),\n",
    "  layers.Flatten(),\n",
    "  layers.Dense(256, activation='relu'),\n",
    "  layers.Dense(1, activation='sigmoid')\n",
    "])"
   ]
  },
  {
   "cell_type": "code",
   "execution_count": 14,
   "metadata": {},
   "outputs": [],
   "source": [
    "model.compile(optimizer='adam',\n",
    "              loss='binary_crossentropy',\n",
    "              metrics=['accuracy'])"
   ]
  },
  {
   "cell_type": "code",
   "execution_count": 15,
   "metadata": {},
   "outputs": [
    {
     "name": "stdout",
     "output_type": "stream",
     "text": [
      "[LogicalDevice(name='/device:CPU:0', device_type='CPU'), LogicalDevice(name='/device:GPU:0', device_type='GPU')]\n"
     ]
    }
   ],
   "source": [
    "gpus = tf.config.experimental.list_logical_devices()\n",
    "print(gpus)"
   ]
  },
  {
   "cell_type": "code",
   "execution_count": 16,
   "metadata": {},
   "outputs": [
    {
     "name": "stdout",
     "output_type": "stream",
     "text": [
      "Found 20000 images belonging to 2 classes.\n",
      "Found 4997 images belonging to 2 classes.\n"
     ]
    }
   ],
   "source": [
    "train_datagen = keras.preprocessing.image.ImageDataGenerator(\n",
    "    rescale=1/255.0, \n",
    "    rotation_range=40, \n",
    "    width_shift_range=0.2, \n",
    "    height_shift_range=0.2, \n",
    "    shear_range=0.2, \n",
    "    zoom_range=0.2, \n",
    "    horizontal_flip=True, \n",
    "    fill_mode='nearest'\n",
    ")\n",
    "\n",
    "validation_datagen = keras.preprocessing.image.ImageDataGenerator(rescale=1/255.0)\n",
    "\n",
    "\n",
    "\n",
    "training_generator = train_datagen.flow_from_directory(\n",
    "    data_dir + 'train', \n",
    "    batch_size=20, \n",
    "    class_mode='binary', \n",
    "    target_size=(150, 150)\n",
    ")\n",
    "\n",
    "validation_generator = validation_datagen.flow_from_directory(\n",
    "    data_dir + 'val', \n",
    "    batch_size=20, \n",
    "    class_mode='binary', \n",
    "    target_size=(150, 150)\n",
    ")"
   ]
  },
  {
   "cell_type": "code",
   "execution_count": 19,
   "metadata": {},
   "outputs": [
    {
     "name": "stdout",
     "output_type": "stream",
     "text": [
      "Epoch 1/10\n",
      "1000/1000 [==============================] - 161s 161ms/step - loss: 0.4981 - accuracy: 0.7580 - val_loss: 0.4055 - val_accuracy: 0.8195\n",
      "Epoch 2/10\n",
      "1000/1000 [==============================] - 165s 165ms/step - loss: 0.4662 - accuracy: 0.7829 - val_loss: 0.4031 - val_accuracy: 0.8217\n",
      "Epoch 3/10\n",
      "1000/1000 [==============================] - 167s 167ms/step - loss: 0.4415 - accuracy: 0.7971 - val_loss: 0.3627 - val_accuracy: 0.8387\n",
      "Epoch 4/10\n",
      "1000/1000 [==============================] - 172s 171ms/step - loss: 0.4202 - accuracy: 0.8059 - val_loss: 0.3681 - val_accuracy: 0.8413\n",
      "Epoch 5/10\n",
      "1000/1000 [==============================] - 168s 168ms/step - loss: 0.3995 - accuracy: 0.8192 - val_loss: 0.3732 - val_accuracy: 0.8425\n",
      "Epoch 6/10\n",
      "1000/1000 [==============================] - 166s 165ms/step - loss: 0.3852 - accuracy: 0.8295 - val_loss: 0.3467 - val_accuracy: 0.8479\n",
      "Epoch 7/10\n",
      "1000/1000 [==============================] - 179s 179ms/step - loss: 0.3680 - accuracy: 0.8359 - val_loss: 0.2896 - val_accuracy: 0.8789\n",
      "Epoch 8/10\n",
      "1000/1000 [==============================] - 170s 170ms/step - loss: 0.3572 - accuracy: 0.8388 - val_loss: 0.2692 - val_accuracy: 0.8889\n",
      "Epoch 9/10\n",
      "1000/1000 [==============================] - 164s 164ms/step - loss: 0.3433 - accuracy: 0.8477 - val_loss: 0.3279 - val_accuracy: 0.8569\n",
      "Epoch 10/10\n",
      "1000/1000 [==============================] - 170s 170ms/step - loss: 0.3315 - accuracy: 0.8535 - val_loss: 0.2687 - val_accuracy: 0.8907\n"
     ]
    }
   ],
   "source": [
    "history= model.fit(\n",
    "    training_generator, \n",
    "    validation_data=validation_generator, \n",
    "    epochs=10\n",
    ")"
   ]
  },
  {
   "cell_type": "code",
   "execution_count": 20,
   "metadata": {},
   "outputs": [],
   "source": [
    "model.save_weights('Weights_folder/Weights')"
   ]
  },
  {
   "cell_type": "code",
   "execution_count": 21,
   "metadata": {},
   "outputs": [],
   "source": [
    "model.save('gfgModel.h5')"
   ]
  },
  {
   "cell_type": "code",
   "execution_count": 22,
   "metadata": {},
   "outputs": [],
   "source": [
    "def plot_metrics(metric_name):\n",
    "    train_loss = history.history[metric_name]\n",
    "    epochs = range(len(train_loss))\n",
    "    val_loss = history.history['val_' + metric_name]\n",
    "    plt.figure(figsize=(5, 5))\n",
    "    plt.plot(epochs, train_loss, color='r')\n",
    "    plt.plot(epochs, val_loss, color='b')\n",
    "    plt.title(f'Model {metric_name}')\n",
    "    plt.legend([f'training_{metric_name}', f'val_{metric_name}'])\n",
    "    plt.xlabel('epochs')\n",
    "    plt.ylabel(f'{metric_name}')\n",
    "    plt.show()"
   ]
  },
  {
   "cell_type": "code",
   "execution_count": 23,
   "metadata": {},
   "outputs": [
    {
     "data": {
      "image/png": "[encoded data removed]",
      "text/plain": [
       "<Figure size 360x360 with 1 Axes>"
      ]
     },
     "metadata": {
      "needs_background": "light"
     },
     "output_type": "display_data"
    },
    {
     "data": {
      "image/png": "[encoded data removed]",
      "text/plain": [
       "<Figure size 360x360 with 1 Axes>"
      ]
     },
     "metadata": {
      "needs_background": "light"
     },
     "output_type": "display_data"
    }
   ],
   "source": [
    "plt.style.use('seaborn')\n",
    "plot_metrics('loss')\n",
    "plot_metrics('accuracy')"
   ]
  },
  {
   "cell_type": "code",
   "execution_count": 45,
   "metadata": {},
   "outputs": [],
   "source": [
    "import cv2 as cv\n",
    "def predict_class(filename, model, i):\n",
    "    img = keras.preprocessing.image.load_img(filename, target_size=(img_height, img_width))\n",
    "    x = keras.preprocessing.image.img_to_array(img)\n",
    "    x  = np.expand_dims(x, axis=0)\n",
    "\n",
    "    images = np.vstack([x])\n",
    "    result = model.predict(images, batch_size=10, verbose=\"silent\")\n",
    "\n",
    "    if result[0]>0.5:\n",
    "        print(f\"Image {i}: Dog\")\n",
    "    else:\n",
    "        print(f\"Image {i}: Cat\")"
   ]
  },
  {
   "cell_type": "code",
   "execution_count": 46,
   "metadata": {},
   "outputs": [
    {
     "name": "stdout",
     "output_type": "stream",
     "text": [
      "Image 1: \n",
      "Dog\n",
      "Image 2: \n",
      "Dog\n",
      "Image 3: \n",
      "Dog\n",
      "Image 4: \n",
      "Dog\n",
      "Image 5: \n",
      "Cat\n",
      "Image 6: \n",
      "Dog\n"
     ]
    }
   ],
   "source": [
    "for i in range(1, 7):\n",
    "    predict_class(f'images_from_net/{i}.jpg', model, i)"
   ]
  }
 ],
 "metadata": {
  "kernelspec": {
   "display_name": "Python 3.10.4 64-bit",
   "language": "python",
   "name": "python3"
  },
  "language_info": {
   "codemirror_mode": {
    "name": "ipython",
    "version": 3
   },
   "file_extension": ".py",
   "mimetype": "text/x-python",
   "name": "python",
   "nbconvert_exporter": "python",
   "pygments_lexer": "ipython3",
   "version": "3.10.4"
  },
  "orig_nbformat": 4,
  "vscode": {
   "interpreter": {
    "hash": "fb4569285eef3a3450cb62085a5b1e0da4bce0af555edc33dcf29baf3acc1368"
   }
  }
 },
 "nbformat": 4,
 "nbformat_minor": 2
}
